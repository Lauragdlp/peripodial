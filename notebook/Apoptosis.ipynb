{
 "cells": [
  {
   "cell_type": "code",
   "execution_count": null,
   "id": "f21f9f32-0ef9-4459-bb5e-b821976fbfbb",
   "metadata": {},
   "outputs": [],
   "source": [
    "# Import \n",
    "import os\n",
    "import time\n",
    "import json\n",
    "import datetime\n",
    "import pandas as pd\n",
    "import numpy as np\n",
    "from matplotlib import rcParams\n",
    "\n",
    "from pathlib import Path\n",
    "from tyssue import Sheet\n",
    "from tyssue.io import hdf5\n",
    "\n",
    "from tyssue.dynamics.sheet_gradients import height_grad\n",
    "from tyssue.dynamics import units, effectors, model_factory\n",
    "from tyssue.solvers.quasistatic import QSSolver\n",
    "from tyssue.draw import sheet_view\n",
    "import matplotlib.pyplot as plt\n",
    "%matplotlib inline"
   ]
  },
  {
   "cell_type": "code",
   "execution_count": null,
   "id": "8a91064c-cabc-4b54-9d0b-0c6e3eeaaf39",
   "metadata": {},
   "outputs": [],
   "source": [
    "from toolbox import (define_fold_position, define_apoptotic_pattern)"
   ]
  },
  {
   "cell_type": "code",
   "execution_count": null,
   "id": "47d29c90-6675-4ffb-9e66-af7108335866",
   "metadata": {},
   "outputs": [],
   "source": [
    "define_fold_position(sheet,\n",
    "                         fold_number=2,\n",
    "                         position=[-36, -22, 22, 36]):"
   ]
  },
  {
   "cell_type": "code",
   "execution_count": null,
   "id": "056fc4ff-67e9-43eb-bd6b-8072a0063650",
   "metadata": {},
   "outputs": [],
   "source": [
    "define_apoptotic_pattern()"
   ]
  },
  {
   "cell_type": "code",
   "execution_count": null,
   "id": "cfe8aed1-4867-4696-88d8-db3e68656dc5",
   "metadata": {},
   "outputs": [],
   "source": []
  }
 ],
 "metadata": {
  "kernelspec": {
   "display_name": "Python 3 (ipykernel)",
   "language": "python",
   "name": "python3"
  },
  "language_info": {
   "codemirror_mode": {
    "name": "ipython",
    "version": 3
   },
   "file_extension": ".py",
   "mimetype": "text/x-python",
   "name": "python",
   "nbconvert_exporter": "python",
   "pygments_lexer": "ipython3",
   "version": "3.10.14"
  }
 },
 "nbformat": 4,
 "nbformat_minor": 5
}
