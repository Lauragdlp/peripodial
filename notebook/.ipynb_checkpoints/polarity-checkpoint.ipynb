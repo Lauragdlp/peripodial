{
 "cells": [
  {
   "cell_type": "code",
   "execution_count": null,
   "id": "21504127-4f5b-405b-b4d2-8ba00839a6aa",
   "metadata": {},
   "outputs": [],
   "source": [
    "# Import \n",
    "import os\n",
    "import time\n",
    "import json\n",
    "import datetime\n",
    "import sys\n",
    "\n",
    "import pandas as pd\n",
    "import numpy as np\n",
    "from matplotlib import rcParams\n",
    "\n",
    "from pathlib import Path\n",
    "from tyssue import Sheet\n",
    "from tyssue.io import hdf5\n",
    "\n",
    "from tyssue.dynamics.sheet_gradients import height_grad\n",
    "from tyssue.dynamics import units, effectors, model_factory\n",
    "from tyssue.solvers.quasistatic import QSSolver\n",
    "from tyssue.draw import sheet_view\n",
    "import matplotlib.pyplot as plt\n",
    "%matplotlib inline\n",
    "rcParams['figure.dpi'] = 200\n",
    "\n",
    "sys.path.append(\"..\")\n",
    "from peripodial.polarity import model\n",
    "from peripodial.dynamics import EllipsoidLameGeometry as geom\n",
    "from peripodial.anisotropy import anysotropy as aniso\n",
    "from peripodial.anisotropy import face_orientation\n",
    "from peripodial.polarity import update_weights\n",
    "from peripodial.polarity import draw_half_sheet"
   ]
  },
  {
   "cell_type": "code",
   "execution_count": null,
   "id": "f289c770-4eb2-42c2-b71c-736ef4aca6f7",
   "metadata": {},
   "outputs": [],
   "source": [
    "%load_ext autoreload\n",
    "%autoreload 2"
   ]
  },
  {
   "cell_type": "code",
   "execution_count": null,
   "id": "a35f1012-113b-410a-b6e8-ea3af7ac6523",
   "metadata": {},
   "outputs": [],
   "source": [
    "SIM_DIR = Path('/home/lglepin/Simulations/')\n",
    "today = datetime.date.today()\n",
    "\n",
    "sim_save_dir = SIM_DIR/f'{today.isoformat()}_YolkElasticity'\n",
    "\n",
    "try:\n",
    "    sim_save_dir.mkdir(parents=True, exist_ok=True)\n",
    "except FileExistsError:\n",
    "    pass\n",
    "\n",
    "dsets = hdf5.load_datasets('../json_hdf5/lumen_elasticity.hdf5',\n",
    "                               data_names=['vert', 'edge', 'face'])\n",
    "\n",
    "with open('../json_hdf5/lumen_elasticity.json', 'r+') as fp:\n",
    "    specs = json.load(fp)\n",
    "\n",
    "sheet = Sheet('spherical', dsets)\n",
    "\n",
    "sheet.update_specs(specs)\n",
    "geom.update_all(sheet)\n"
   ]
  },
  {
   "cell_type": "code",
   "execution_count": null,
   "id": "640d4eda-2bc6-4c5d-98de-a96b26f4d186",
   "metadata": {
    "scrolled": true
   },
   "outputs": [],
   "source": [
    "sheet.specs"
   ]
  },
  {
   "cell_type": "code",
   "execution_count": null,
   "id": "3f9acf38-676b-4138-a2ec-f66f312d4277",
   "metadata": {},
   "outputs": [],
   "source": [
    "fig, ax = sheet_view(sheet, coords=[\"z\", \"x\"])\n",
    "ax.set_xlabel('P-D axis')\n",
    "ax.set_ylabel('D-V axis')\n"
   ]
  },
  {
   "cell_type": "code",
   "execution_count": null,
   "id": "89351168-52b3-49e0-b70a-f50622df376d",
   "metadata": {},
   "outputs": [],
   "source": [
    "sheet.settings['barrier_radius'] = 9.6\n",
    "solver = QSSolver(with_t1=False, with_t3=False)\n",
    "res = solver.find_energy_min(sheet, geom, model, options={\"gtol\": 1e-4})\n",
    "fig, ax = sheet_view(sheet, coords=[\"z\", \"x\"])"
   ]
  },
  {
   "cell_type": "code",
   "execution_count": null,
   "id": "0e77e4f0-f37e-41ad-a97b-9c36170c0eae",
   "metadata": {
    "jupyter": {
     "source_hidden": true
    },
    "scrolled": true
   },
   "outputs": [],
   "source": [
    "#### verify that the function works\n",
    "change = []\n",
    "sheet_copy = sheet.copy()\n",
    "theta = np.pi / 3\n",
    "\n",
    "for i in range(10): \n",
    "    \n",
    "    print(f\"{i+1} / 10\", end=\" \")\n",
    "    z_orientation = update_weights(\n",
    "        sheet_copy, \n",
    "        threshold_angle=theta, \n",
    "        below_threshold=0.5,\n",
    "        above_threshold=1.0,\n",
    "    )\n",
    "    solver = QSSolver(with_t1=False, with_t3=False)\n",
    "    res = solver.find_energy_min(sheet_copy, geom, model, options={\"gtol\": 1e-4})\n",
    "    change.append((z_orientation < np.sin(theta)**2).sum()  /sheet_copy.Ne)\n",
    "\n",
    "\n",
    "sheet_copy1 = sheet_copy.copy()\n",
    "sheet_copy1.edge_df = sheet_copy1.edge_df[sheet.edge_df[\"sy\"] > 0] \n",
    "\n",
    "draw_specs = {'vert': {\n",
    "            'visible': False\n",
    "            },\n",
    "        'edge': {\n",
    "            'color': sheet_copy1.edge_df[\"weight\"],\n",
    "            'colormap': \"coolwarm\",\n",
    "            'width': sheet_copy1.edge_df[\"weight\"]\n",
    "            #'zorder': depth.values\n",
    "            }\n",
    "        }\n",
    "\n",
    "fig, ax = sheet_view(sheet_copy1, [\"z\", \"x\"], mode='2D', **draw_specs)\n",
    "ax.set_facecolor('#101010')\n",
    "print(change)\n"
   ]
  },
  {
   "cell_type": "code",
   "execution_count": null,
   "id": "992cf785-5998-4d70-8f9b-430071ab809b",
   "metadata": {},
   "outputs": [],
   "source": [
    "aniso(sheet, coords = ['x','y','z'])"
   ]
  },
  {
   "cell_type": "code",
   "execution_count": null,
   "id": "8cfb7b67-35a2-448e-9d08-c64ef60972a4",
   "metadata": {},
   "outputs": [],
   "source": [
    "sheet.face_df.columns"
   ]
  },
  {
   "cell_type": "code",
   "execution_count": null,
   "id": "ed590acb-ce87-4720-8392-1b0696c1d531",
   "metadata": {},
   "outputs": [],
   "source": [
    "aniso_cell_values = [] \n",
    "theta = np.pi / 3\n",
    "bts = np.arange(1, 4, 0.3)\n",
    "\n",
    "for i, above_threshold in enumerate(bts):\n",
    "    \n",
    "    print(f\"{i+1} / {10}\", end=\" \")\n",
    "    update_weights(\n",
    "        sheet, \n",
    "        threshold_angle=theta, \n",
    "        below_threshold=1,\n",
    "        above_threshold=above_threshold,\n",
    "    )\n",
    "    geom.update_all(sheet)\n",
    "    solver = QSSolver(with_t1=False, with_t3=False)\n",
    "    res = solver.find_energy_min(sheet, geom, model, options={\"gtol\": 1e-4})\n",
    "    sheet.face_df['anisotropy'] = aniso(sheet, coords = ['x','y','z'])\n",
    "    aniso_cell = sheet.face_df['anisotropy'].mean()\n",
    "    aniso_cell_values.append(aniso_cell)\n",
    "\n",
    "aniso_cell_values = np.array(aniso_cell_values)\n",
    "print(aniso_cell_values)\n"
   ]
  },
  {
   "cell_type": "code",
   "execution_count": null,
   "id": "b82c7ada-b158-4afb-8f42-05b669d081ca",
   "metadata": {},
   "outputs": [],
   "source": [
    "aniso_cell_values"
   ]
  },
  {
   "cell_type": "code",
   "execution_count": null,
   "id": "6ea08861-8161-401f-9e49-3f8e395cc32a",
   "metadata": {},
   "outputs": [],
   "source": [
    "fig, ax = plt.subplots()\n",
    "\n",
    "ax.bar(bts, aniso_cell_values, width=0.1, color='orange', edgecolor='black', linewidth=1, align='center')\n",
    "ax.set_ylabel('anisotropy')\n",
    "ax.set_xlabel('weight')\n",
    "#ax.set_yscale('log')\n",
    "ax.set_xlim(0.5, 4)\n",
    "ax.set_ylim(0.25, 0.3)\n"
   ]
  },
  {
   "cell_type": "code",
   "execution_count": null,
   "id": "78f19f00-231b-40f7-a4f1-0afb4747bce8",
   "metadata": {},
   "outputs": [],
   "source": [
    "print(sheet)"
   ]
  },
  {
   "cell_type": "code",
   "execution_count": null,
   "id": "22f6c020-7499-4446-b34a-f2f7beee0e99",
   "metadata": {},
   "outputs": [],
   "source": [
    "sheets_obj = {}\n",
    "for i, above_threshold in enumerate(bts):\n",
    "    \n",
    "    print(f\"{i+1} / {10}\", end=\" \")\n",
    "    update_weights(\n",
    "        sheet, \n",
    "        threshold_angle=theta, \n",
    "        below_threshold=0.5,\n",
    "        above_threshold=above_threshold,\n",
    "    )\n",
    "    solver = QSSolver(with_t1=False, with_t3=False)\n",
    "    res = solver.find_energy_min(sheet, geom, model, options={\"gtol\": 1e-4})\n",
    "    sheet_copy = sheet.copy()\n",
    "    sheets_obj[above_threshold] = sheet_copy\n",
    "\n"
   ]
  },
  {
   "cell_type": "code",
   "execution_count": null,
   "id": "e9a44329-9bc5-4e61-8022-0089f4a5265f",
   "metadata": {},
   "outputs": [],
   "source": [
    "sheets_obj[1]"
   ]
  },
  {
   "cell_type": "code",
   "execution_count": null,
   "id": "2f1c032d-351c-40dd-b777-c3dc6fda33c5",
   "metadata": {},
   "outputs": [],
   "source": [
    "fig, axes = plt.subplots(1, 10)\n",
    "\n",
    "for i, (above_threshold, sheet_copy) in enumerate(sheets_obj.items()):\n",
    "    #plt.savefig(f'sheet {i+1}.png', transparent=True)\n",
    "    fig, ax = draw_half_sheet(sheet_copy, axes[i])\n",
    "    ax.set_xlabel(f\"{above_threshold:.3f}\")\n",
    "fig.set_size_inches(18, 5)"
   ]
  },
  {
   "cell_type": "code",
   "execution_count": null,
   "id": "4bcfe722-4f07-4aac-a53d-7ba2c223925d",
   "metadata": {},
   "outputs": [],
   "source": [
    "from tyssue.io.hdf5 import save_datasets\n",
    "save_datasets(\"../json_hdf5/lumen_elasticity.hdf5\",sheet)\n",
    "from tyssue.config.json_parser import save_spec\n",
    "save_spec(specs, \"../json_hdf5/lumen_elasticity.json\", overwrite=True)"
   ]
  },
  {
   "cell_type": "code",
   "execution_count": null,
   "id": "b9fd2d54-3b06-4b86-ae5c-15baa0cf3c75",
   "metadata": {},
   "outputs": [],
   "source": []
  }
 ],
 "metadata": {
  "kernelspec": {
   "display_name": "Python 3 (ipykernel)",
   "language": "python",
   "name": "python3"
  },
  "language_info": {
   "codemirror_mode": {
    "name": "ipython",
    "version": 3
   },
   "file_extension": ".py",
   "mimetype": "text/x-python",
   "name": "python",
   "nbconvert_exporter": "python",
   "pygments_lexer": "ipython3",
   "version": "3.10.14"
  }
 },
 "nbformat": 4,
 "nbformat_minor": 5
}
