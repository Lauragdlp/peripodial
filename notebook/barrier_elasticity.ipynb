{
 "cells": [
  {
   "cell_type": "code",
   "execution_count": null,
   "id": "b53c5e59-3ccc-406e-b93a-fe3d4b06a1f3",
   "metadata": {},
   "outputs": [],
   "source": [
    "# Import \n",
    "import os\n",
    "import time\n",
    "import json\n",
    "import datetime\n",
    "import sys\n",
    "\n",
    "import pandas as pd\n",
    "import numpy as np\n",
    "from matplotlib import rcParams\n",
    "\n",
    "from pathlib import Path\n",
    "from tyssue import Sheet\n",
    "from tyssue.io import hdf5\n",
    "\n",
    "from tyssue.dynamics.sheet_gradients import height_grad\n",
    "from tyssue.dynamics import units, effectors, model_factory\n",
    "from tyssue.solvers.quasistatic import QSSolver\n",
    "from tyssue.draw import sheet_view\n",
    "import matplotlib.pyplot as plt\n",
    "%matplotlib inline\n",
    "rcParams['figure.dpi'] = 200\n",
    "\n",
    "sys.path.append(\"..\")\n",
    "from peripodial.polarity import model\n",
    "from peripodial.dynamics import EllipsoidLameGeometry as geom\n",
    "from peripodial.anisotropy import anysotropy as aniso\n",
    "from peripodial.anisotropy import face_orientation\n",
    "from peripodial.polarity import update_weights\n",
    "from peripodial.draw import draw_half_sheet"
   ]
  },
  {
   "cell_type": "code",
   "execution_count": null,
   "id": "c104fd66-f3d9-4448-bf9c-853b55bf99bd",
   "metadata": {},
   "outputs": [],
   "source": [
    "%load_ext autoreload\n",
    "%autoreload 2"
   ]
  },
  {
   "cell_type": "code",
   "execution_count": null,
   "id": "0b82e657-0118-4cec-8fb8-a3a21a2fdac7",
   "metadata": {},
   "outputs": [],
   "source": [
    "SIM_DIR = Path('/home/lglepin/Simulations/')\n",
    "today = datetime.date.today()\n",
    "\n",
    "sim_save_dir = SIM_DIR/f'{today.isoformat()}_YolkElasticity'\n",
    "\n",
    "try:\n",
    "    sim_save_dir.mkdir(parents=True, exist_ok=True)\n",
    "except FileExistsError:\n",
    "    pass\n",
    "\n",
    "dsets = hdf5.load_datasets('../json_hdf5/polarity.hdf5',\n",
    "                               data_names=['vert', 'edge', 'face'])\n",
    "\n",
    "with open('../json_hdf5/polarity.json', 'r+') as fp:\n",
    "    specs = json.load(fp)\n",
    "\n",
    "sheet = Sheet('spherical', dsets)\n",
    "\n",
    "sheet.update_specs(specs)\n",
    "geom.update_all(sheet)\n"
   ]
  },
  {
   "cell_type": "code",
   "execution_count": null,
   "id": "d8379e1a-fd99-43aa-bc36-89b870832fa3",
   "metadata": {},
   "outputs": [],
   "source": [
    "fig, ax = sheet_view(sheet, coords=[\"z\",\"x\"])"
   ]
  },
  {
   "cell_type": "code",
   "execution_count": null,
   "id": "d7285f93-cab2-44b8-8cb7-e70f976e15f1",
   "metadata": {},
   "outputs": [],
   "source": [
    "aniso_cell_values = [] \n",
    "lumen_vol_egg= []\n",
    "theta = np.pi / 3\n",
    "be = np.arange(1, 300, 20)\n",
    "\n",
    "for i, be in enumerate(bts):\n",
    "    sheet_copy=sheet.copy()\n",
    "    print(f\"{i+1} / {10}\", end=\" \")\n",
    "    update_weights(sheet_copy, threshold_angle=theta, below_threshold=1, above_threshold=6.75,\n",
    "    )\n",
    "    sheet.settings['barrier_elasticity']=be\n",
    "    geom.update_all(sheet)\n",
    "    solver = QSSolver(with_t1=True, with_t3=False)\n",
    "    res = solver.find_energy_min(sheet, geom, model, options={\"gtol\": 1e-4})\n",
    "    sheet_copy.face_df['anisotropy'] = aniso(sheet_copy, coords = ['x','y','z'])\n",
    "    aniso_cell = sheet_copy.face_df['anisotropy'].mean()\n",
    "    aniso_cell_values.append(aniso_cell)\n",
    "    lumen_vol_egg.append(sheet_copy.settings['lumen_vol'])\n",
    "\n",
    "aniso_cell_values = np.array(aniso_cell_values)\n",
    "print(aniso_cell_values)\n"
   ]
  },
  {
   "cell_type": "code",
   "execution_count": null,
   "id": "b5c12728-03e4-48e7-a98b-d9631fff99af",
   "metadata": {
    "scrolled": true
   },
   "outputs": [],
   "source": [
    "sheets_obj = {}\n",
    "for i, above_threshold in enumerate(be):\n",
    "    \n",
    "    print(f\"{i+1} / {10}\", end=\" \")\n",
    "    update_weights(sheet, threshold_angle=theta, below_threshold=0.5, above_threshold=6.75,\n",
    "    )\n",
    "    solver = QSSolver(with_t1=True, with_t3=False)\n",
    "    res = solver.find_energy_min(sheet, geom, model, options={\"gtol\": 1e-4})\n",
    "    sheet_copy = sheet.copy()\n",
    "    sheets_obj[above_threshold] = sheet_copy\n",
    "\n"
   ]
  },
  {
   "cell_type": "code",
   "execution_count": null,
   "id": "e84eea64-ef3c-4d02-b9cc-dd3a24b85b45",
   "metadata": {},
   "outputs": [],
   "source": [
    "fig, axes = plt.subplots(1, 10)\n",
    "\n",
    "for i, (above_threshold, sheet_copy) in enumerate(sheets_obj.items()):\n",
    "    #plt.savefig(f'sheet {i+1}.png', transparent=True)\n",
    "    fig, ax = draw_half_sheet(sheet_copy, axes[i])\n",
    "    ax.set_xlabel(f\"{above_threshold:.3f}\")\n",
    "    ax.set_facecolor(\"black\")\n",
    "fig.set_size_inches(18, 5)\n",
    "plt.show\n",
    "plt.savefig('../image/aniso_weight.png', transparent=False)"
   ]
  }
 ],
 "metadata": {
  "kernelspec": {
   "display_name": "Python 3 (ipykernel)",
   "language": "python",
   "name": "python3"
  },
  "language_info": {
   "codemirror_mode": {
    "name": "ipython",
    "version": 3
   },
   "file_extension": ".py",
   "mimetype": "text/x-python",
   "name": "python",
   "nbconvert_exporter": "python",
   "pygments_lexer": "ipython3",
   "version": "3.10.14"
  }
 },
 "nbformat": 4,
 "nbformat_minor": 5
}
